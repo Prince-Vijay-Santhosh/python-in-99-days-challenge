{
 "cells": [
  {
   "cell_type": "code",
   "execution_count": 1,
   "id": "90a081e3",
   "metadata": {},
   "outputs": [
    {
     "name": "stdout",
     "output_type": "stream",
     "text": [
      "Hello World\n"
     ]
    }
   ],
   "source": [
    "print(\"Hello World\")"
   ]
  },
  {
   "cell_type": "code",
   "execution_count": 2,
   "id": "68707fde",
   "metadata": {},
   "outputs": [
    {
     "name": "stdout",
     "output_type": "stream",
     "text": [
      "enter your nameprince\n",
      "prince\n"
     ]
    }
   ],
   "source": [
    "name = input(\"enter your name\")\n",
    "print(name)"
   ]
  },
  {
   "cell_type": "code",
   "execution_count": 3,
   "id": "1cb07b81",
   "metadata": {
    "scrolled": true
   },
   "outputs": [
    {
     "name": "stdout",
     "output_type": "stream",
     "text": [
      "enter num 13\n",
      "enter num 33\n",
      "33\n"
     ]
    }
   ],
   "source": [
    "n1 = input(\"enter num 1\")\n",
    "n2 = input(\"enter num 3\")\n",
    "print(n1+n2) #storing in string format\n"
   ]
  },
  {
   "cell_type": "code",
   "execution_count": 8,
   "id": "066a1de9",
   "metadata": {},
   "outputs": [
    {
     "name": "stdout",
     "output_type": "stream",
     "text": [
      "enter your name prince\n",
      "your name is prince\n"
     ]
    }
   ],
   "source": [
    "#get name and display\n",
    "name = input(\"enter your name \")\n",
    "print(\"your name is \"+name)"
   ]
  },
  {
   "cell_type": "code",
   "execution_count": 9,
   "id": "9707a033",
   "metadata": {},
   "outputs": [
    {
     "name": "stdout",
     "output_type": "stream",
     "text": [
      "enter your age: 12\n",
      "your age is 12\n"
     ]
    }
   ],
   "source": [
    "#get age and display\n",
    "age = input(\"enter your age: \")\n",
    "print(\"your age is \"+age)"
   ]
  },
  {
   "cell_type": "code",
   "execution_count": 14,
   "id": "447dfccb",
   "metadata": {},
   "outputs": [
    {
     "name": "stdout",
     "output_type": "stream",
     "text": [
      "Enter 1st num2\n",
      "Enter 2nd num3\n",
      "Addition of both number is =5\n"
     ]
    }
   ],
   "source": [
    "#get 2 num and add it\n",
    "n1 = int(input(\"Enter 1st num\")) #int function should be used for num\n",
    "n2 = int(input(\"Enter 2nd num\"))\n",
    "result = n1 + n2\n",
    "print(\"Addition of both number is =\"+str(result))"
   ]
  }
 ],
 "metadata": {
  "kernelspec": {
   "display_name": "Python 3 (ipykernel)",
   "language": "python",
   "name": "python3"
  },
  "language_info": {
   "codemirror_mode": {
    "name": "ipython",
    "version": 3
   },
   "file_extension": ".py",
   "mimetype": "text/x-python",
   "name": "python",
   "nbconvert_exporter": "python",
   "pygments_lexer": "ipython3",
   "version": "3.9.12"
  }
 },
 "nbformat": 4,
 "nbformat_minor": 5
}
