{
 "cells": [
  {
   "cell_type": "code",
   "execution_count": 11,
   "id": "1c4da25d",
   "metadata": {
    "scrolled": true
   },
   "outputs": [
    {
     "name": "stdout",
     "output_type": "stream",
     "text": [
      "prince\n"
     ]
    },
    {
     "data": {
      "text/plain": [
       "'\\nthis is used for multi line commenting\\nprint(\"line 1\")\\nprint(\"line 1\")\\nprint(\"line 1\")\\n'"
      ]
     },
     "execution_count": 11,
     "metadata": {},
     "output_type": "execute_result"
    }
   ],
   "source": [
    " # this is used for comment\n",
    "print(\"prince\")\n",
    "\n",
    "\"\"\"\n",
    "this is used for multi line commenting\n",
    "print(\"line 1\")\n",
    "print(\"line 1\")\n",
    "print(\"line 1\")\n",
    "\"\"\""
   ]
  },
  {
   "cell_type": "code",
   "execution_count": 12,
   "id": "2680471c",
   "metadata": {},
   "outputs": [
    {
     "name": "stdout",
     "output_type": "stream",
     "text": [
      "hello world\n",
      "5\n",
      "2\n",
      "45\n"
     ]
    }
   ],
   "source": [
    "print(\"hello world\")\n",
    "print(2+3)\n",
    "print(3-1)\n",
    "print(5*9)\n",
    "#the set of instructions is program"
   ]
  },
  {
   "cell_type": "code",
   "execution_count": 13,
   "id": "7dbe084a",
   "metadata": {},
   "outputs": [
    {
     "name": "stdout",
     "output_type": "stream",
     "text": [
      "hello\n",
      "world\n"
     ]
    }
   ],
   "source": [
    "print(\"hello\");print(\"world\")\n",
    "#use seperator ; for seperating in same line"
   ]
  },
  {
   "cell_type": "code",
   "execution_count": 14,
   "id": "6d3a4fd4",
   "metadata": {},
   "outputs": [
    {
     "name": "stdout",
     "output_type": "stream",
     "text": [
      "13\n",
      "10\n"
     ]
    }
   ],
   "source": [
    "print(3+10);print(2*5)"
   ]
  },
  {
   "cell_type": "code",
   "execution_count": 16,
   "id": "8e2e128e",
   "metadata": {},
   "outputs": [
    {
     "ename": "IndentationError",
     "evalue": "unexpected indent (2588938672.py, line 2)",
     "output_type": "error",
     "traceback": [
      "\u001b[1;36m  Input \u001b[1;32mIn [16]\u001b[1;36m\u001b[0m\n\u001b[1;33m    print()\u001b[0m\n\u001b[1;37m    ^\u001b[0m\n\u001b[1;31mIndentationError\u001b[0m\u001b[1;31m:\u001b[0m unexpected indent\n"
     ]
    }
   ],
   "source": [
    "print()\n",
    " print()\n",
    "    #intendation error (intendation is useful)"
   ]
  },
  {
   "cell_type": "code",
   "execution_count": 20,
   "id": "7dbec661",
   "metadata": {},
   "outputs": [
    {
     "name": "stdout",
     "output_type": "stream",
     "text": [
      "yes\n"
     ]
    }
   ],
   "source": [
    "a = 3\n",
    "if(a == 3): #use colon\n",
    "     print(\"yes\") #tab space for intendation\n",
    "else:\n",
    "    print(\"no\")"
   ]
  }
 ],
 "metadata": {
  "kernelspec": {
   "display_name": "Python 3 (ipykernel)",
   "language": "python",
   "name": "python3"
  },
  "language_info": {
   "codemirror_mode": {
    "name": "ipython",
    "version": 3
   },
   "file_extension": ".py",
   "mimetype": "text/x-python",
   "name": "python",
   "nbconvert_exporter": "python",
   "pygments_lexer": "ipython3",
   "version": "3.9.12"
  }
 },
 "nbformat": 4,
 "nbformat_minor": 5
}
